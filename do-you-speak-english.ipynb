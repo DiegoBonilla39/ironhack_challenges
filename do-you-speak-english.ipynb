{
 "cells": [
  {
   "cell_type": "code",
   "execution_count": 3,
   "id": "2555873f",
   "metadata": {},
   "outputs": [],
   "source": [
    "def sp_eng(sentence): #input string \n",
    "    if \"english\" in sentence.lower(): #Transfrom string in lowercase to compare with \"english\"\n",
    "        return True  #output boolean\n",
    "    else:\n",
    "        return False #output boolean"
   ]
  }
 ],
 "metadata": {
  "kernelspec": {
   "display_name": "Python [conda env:m1_env]",
   "language": "python",
   "name": "conda-env-m1_env-py"
  },
  "language_info": {
   "codemirror_mode": {
    "name": "ipython",
    "version": 3
   },
   "file_extension": ".py",
   "mimetype": "text/x-python",
   "name": "python",
   "nbconvert_exporter": "python",
   "pygments_lexer": "ipython3",
   "version": "3.10.9"
  }
 },
 "nbformat": 4,
 "nbformat_minor": 5
}

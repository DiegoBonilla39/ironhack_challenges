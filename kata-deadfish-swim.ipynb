{
 "cells": [
  {
   "cell_type": "code",
   "execution_count": 58,
   "id": "d07756f1",
   "metadata": {},
   "outputs": [],
   "source": [
    "def parse(data):\n",
    "    counter = 0\n",
    "    my_list = []\n",
    "\n",
    "    for i in data:\n",
    "        if i == \"i\":\n",
    "            counter += 1\n",
    "        elif i == \"d\":\n",
    "            counter -= 1\n",
    "        elif i == \"s\":\n",
    "            counter = counter*counter\n",
    "        elif i == \"o\":\n",
    "            my_list.append(counter)\n",
    "\n",
    "    return my_list"
   ]
  }
 ],
 "metadata": {
  "kernelspec": {
   "display_name": "Python [conda env:m1_env]",
   "language": "python",
   "name": "conda-env-m1_env-py"
  },
  "language_info": {
   "codemirror_mode": {
    "name": "ipython",
    "version": 3
   },
   "file_extension": ".py",
   "mimetype": "text/x-python",
   "name": "python",
   "nbconvert_exporter": "python",
   "pygments_lexer": "ipython3",
   "version": "3.10.9"
  }
 },
 "nbformat": 4,
 "nbformat_minor": 5
}

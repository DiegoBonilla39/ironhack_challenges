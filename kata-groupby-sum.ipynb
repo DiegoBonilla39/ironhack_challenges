{
 "cells": [
  {
   "cell_type": "code",
   "execution_count": null,
   "id": "7efd098e",
   "metadata": {},
   "outputs": [],
   "source": [
    "def group(arr, idx):\n",
    "\n",
    "    import pandas as pd\n",
    "    \n",
    "    idx2 = list(set([i for x in arr for i in range(len(x)) if not i in idx]))\n",
    "    keys = [tuple([arr[j][i] for i in idx]) for j in range(len(arr))]\n",
    "    values = [list([arr[j][i] for i in idx2]) for j in range(len(arr))]\n",
    "    dictionary = {\"keys\":keys,\"values\":values}\n",
    "\n",
    "    dfv = pd.DataFrame(values,index=keys)\n",
    "    dfk = pd.DataFrame({\"keys\":keys})\n",
    "\n",
    "    dfg = dfv.groupby([dfv.index]).agg(\"sum\")\n",
    "\n",
    "    dictionary_f = {}\n",
    "\n",
    "    keys_f = dfg.index.tolist()\n",
    "    values_f = dfg.values.tolist()\n",
    "\n",
    "    for i in range(len(keys_f)):\n",
    "        dictionary_f[keys_f[i]] = values_f[i]\n",
    "\n",
    "    return dictionary_f"
   ]
  }
 ],
 "metadata": {
  "kernelspec": {
   "display_name": "Python [conda env:m1_env]",
   "language": "python",
   "name": "conda-env-m1_env-py"
  },
  "language_info": {
   "codemirror_mode": {
    "name": "ipython",
    "version": 3
   },
   "file_extension": ".py",
   "mimetype": "text/x-python",
   "name": "python",
   "nbconvert_exporter": "python",
   "pygments_lexer": "ipython3",
   "version": "3.10.9"
  }
 },
 "nbformat": 4,
 "nbformat_minor": 5
}

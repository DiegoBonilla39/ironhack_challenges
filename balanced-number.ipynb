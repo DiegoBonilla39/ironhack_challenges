{
 "cells": [
  {
   "cell_type": "code",
   "execution_count": 1,
   "id": "dcf7663f",
   "metadata": {},
   "outputs": [],
   "source": [
    "def balanced_num(number):\n",
    "  if type(number) == int:  \n",
    "    number_total = [] #List to append the number\n",
    "\n",
    "    for i in str(number): #Conversion of int in str to append it on the list\n",
    "        number_total.append(int(i))\n",
    "\n",
    "    division = len(number_total)//2 #Half of the list\n",
    "\n",
    "    if len(number_total) % 2 == 0: #Analysis for even integers\n",
    "        if sum(number_total[:(division-1)]) == sum(number_total[(division+1):]):\n",
    "            return(\"Balanced\")\n",
    "        else:\n",
    "            return(\"Not Balanced\")\n",
    "    else:  #Analysis for odd integers\n",
    "        if sum(number_total[:(division)]) == sum(number_total[(division+1):]):\n",
    "            return(\"Balanced\")\n",
    "        else:\n",
    "            return(\"Not Balanced\")\n",
    "  else:\n",
    "    return(\"Please insert an integer\")"
   ]
  },
  {
   "cell_type": "code",
   "execution_count": 4,
   "id": "0978ff2c",
   "metadata": {},
   "outputs": [
    {
     "data": {
      "text/plain": [
       "'Not Balanced'"
      ]
     },
     "execution_count": 4,
     "metadata": {},
     "output_type": "execute_result"
    }
   ],
   "source": []
  },
  {
   "cell_type": "code",
   "execution_count": null,
   "id": "92e2ef86",
   "metadata": {},
   "outputs": [],
   "source": []
  }
 ],
 "metadata": {
  "kernelspec": {
   "display_name": "Python [conda env:m1_env]",
   "language": "python",
   "name": "conda-env-m1_env-py"
  },
  "language_info": {
   "codemirror_mode": {
    "name": "ipython",
    "version": 3
   },
   "file_extension": ".py",
   "mimetype": "text/x-python",
   "name": "python",
   "nbconvert_exporter": "python",
   "pygments_lexer": "ipython3",
   "version": "3.10.9"
  }
 },
 "nbformat": 4,
 "nbformat_minor": 5
}

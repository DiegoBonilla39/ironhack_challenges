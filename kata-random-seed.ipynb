{
 "cells": [
  {
   "cell_type": "code",
   "execution_count": 49,
   "id": "e9871856",
   "metadata": {},
   "outputs": [],
   "source": [
    "import random\n",
    "def find_random_seed(lst):\n",
    "    for i in range(10000):\n",
    "        random.seed(i)\n",
    "        if [random.randint(0,100) for _ in range(10)] == lst:\n",
    "            return i\n",
    "            break\n",
    "        else:\n",
    "            continue"
   ]
  }
 ],
 "metadata": {
  "kernelspec": {
   "display_name": "Python [conda env:m3_env]",
   "language": "python",
   "name": "conda-env-m3_env-py"
  },
  "language_info": {
   "codemirror_mode": {
    "name": "ipython",
    "version": 3
   },
   "file_extension": ".py",
   "mimetype": "text/x-python",
   "name": "python",
   "nbconvert_exporter": "python",
   "pygments_lexer": "ipython3",
   "version": "3.11.3"
  }
 },
 "nbformat": 4,
 "nbformat_minor": 5
}

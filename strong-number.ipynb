{
 "cells": [
  {
   "cell_type": "code",
   "execution_count": 12,
   "id": "ce8cf75c",
   "metadata": {},
   "outputs": [],
   "source": [
    "def strong_num(number):\n",
    "    import math\n",
    "    factorials = []\n",
    "\n",
    "    for i in str(number):\n",
    "        factorials.append(math.factorial(int(i)))\n",
    "\n",
    "    if sum(factorials) == number:\n",
    "        return(\"STRONG!!!!\")\n",
    "    else:\n",
    "        return(\"Not Strong !!\")\n",
    "\n"
   ]
  },
  {
   "cell_type": "code",
   "execution_count": 13,
   "id": "642b4fac",
   "metadata": {},
   "outputs": [
    {
     "data": {
      "text/plain": [
       "'STRONG!!!!'"
      ]
     },
     "execution_count": 13,
     "metadata": {},
     "output_type": "execute_result"
    }
   ],
   "source": [
    "strong_num(145)"
   ]
  },
  {
   "cell_type": "code",
   "execution_count": null,
   "id": "9c273d61",
   "metadata": {},
   "outputs": [],
   "source": []
  }
 ],
 "metadata": {
  "kernelspec": {
   "display_name": "Python [conda env:m1_env]",
   "language": "python",
   "name": "conda-env-m1_env-py"
  },
  "language_info": {
   "codemirror_mode": {
    "name": "ipython",
    "version": 3
   },
   "file_extension": ".py",
   "mimetype": "text/x-python",
   "name": "python",
   "nbconvert_exporter": "python",
   "pygments_lexer": "ipython3",
   "version": "3.10.9"
  }
 },
 "nbformat": 4,
 "nbformat_minor": 5
}

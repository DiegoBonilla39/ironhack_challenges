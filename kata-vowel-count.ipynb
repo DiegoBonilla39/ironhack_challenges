{
 "cells": [
  {
   "cell_type": "code",
   "execution_count": 1,
   "id": "f2c782c2",
   "metadata": {},
   "outputs": [],
   "source": [
    "def get_count(sentence):\n",
    "  string = str(sentence)\n",
    "  return(string.count(\"a\")+string.count(\"e\")+string.count(\"i\")+string.count(\"o\")+string.count(\"u\")) "
   ]
  }
 ],
 "metadata": {
  "kernelspec": {
   "display_name": "Python [conda env:m1_env] *",
   "language": "python",
   "name": "conda-env-m1_env-py"
  },
  "language_info": {
   "codemirror_mode": {
    "name": "ipython",
    "version": 3
   },
   "file_extension": ".py",
   "mimetype": "text/x-python",
   "name": "python",
   "nbconvert_exporter": "python",
   "pygments_lexer": "ipython3",
   "version": "3.10.9"
  }
 },
 "nbformat": 4,
 "nbformat_minor": 5
}
